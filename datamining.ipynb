{
 "cells": [
  {
   "cell_type": "markdown",
   "metadata": {},
   "source": [
    " # Data Mining im Bankenumfeld"
   ]
  },
  {
   "cell_type": "markdown",
   "metadata": {},
   "source": [
    "### 1- Importieren von Bibliotheken und Excel-Dateien "
   ]
  },
  {
   "cell_type": "code",
   "execution_count": 1,
   "metadata": {},
   "outputs": [],
   "source": [
    "import pandas as pd\n",
    "import numpy as np\n",
    "import seaborn as sns\n",
    "import matplotlib.pyplot as plt\n",
    "import warnings\n",
    "warnings.filterwarnings(\"ignore\")\n",
    "%matplotlib inline "
   ]
  },
  {
   "cell_type": "code",
   "execution_count": 2,
   "metadata": {},
   "outputs": [
    {
     "name": "stdout",
     "output_type": "stream",
     "text": [
      "<class 'pandas.core.frame.DataFrame'>\n",
      "RangeIndex: 20493 entries, 0 to 20492\n",
      "Data columns (total 10 columns):\n",
      " #   Column         Non-Null Count  Dtype \n",
      "---  ------         --------------  ----- \n",
      " 0   Alter          20493 non-null  int64 \n",
      " 1   Beruf          20493 non-null  object\n",
      " 2   Familienstand  20493 non-null  object\n",
      " 3   Ausbildung     20493 non-null  object\n",
      " 4   Ausgefallen    20493 non-null  int64 \n",
      " 5   Kontostand     20493 non-null  int64 \n",
      " 6   Eigentum       20493 non-null  int64 \n",
      " 7   Darlehen       20493 non-null  int64 \n",
      " 8   Dauer          20493 non-null  int64 \n",
      " 9   Label          20493 non-null  int64 \n",
      "dtypes: int64(7), object(3)\n",
      "memory usage: 1.6+ MB\n",
      "None\n"
     ]
    },
    {
     "data": {
      "text/html": [
       "<div>\n",
       "<style scoped>\n",
       "    .dataframe tbody tr th:only-of-type {\n",
       "        vertical-align: middle;\n",
       "    }\n",
       "\n",
       "    .dataframe tbody tr th {\n",
       "        vertical-align: top;\n",
       "    }\n",
       "\n",
       "    .dataframe thead th {\n",
       "        text-align: right;\n",
       "    }\n",
       "</style>\n",
       "<table border=\"1\" class=\"dataframe\">\n",
       "  <thead>\n",
       "    <tr style=\"text-align: right;\">\n",
       "      <th></th>\n",
       "      <th>Alter</th>\n",
       "      <th>Beruf</th>\n",
       "      <th>Familienstand</th>\n",
       "      <th>Ausbildung</th>\n",
       "      <th>Ausgefallen</th>\n",
       "      <th>Kontostand</th>\n",
       "      <th>Eigentum</th>\n",
       "      <th>Darlehen</th>\n",
       "      <th>Dauer</th>\n",
       "      <th>Label</th>\n",
       "    </tr>\n",
       "  </thead>\n",
       "  <tbody>\n",
       "    <tr>\n",
       "      <th>0</th>\n",
       "      <td>31</td>\n",
       "      <td>Freiberufler</td>\n",
       "      <td>verheiratet</td>\n",
       "      <td>Allgemeine Hochschulreife</td>\n",
       "      <td>0</td>\n",
       "      <td>162</td>\n",
       "      <td>1</td>\n",
       "      <td>1</td>\n",
       "      <td>0</td>\n",
       "      <td>1</td>\n",
       "    </tr>\n",
       "    <tr>\n",
       "      <th>1</th>\n",
       "      <td>28</td>\n",
       "      <td>Beamter</td>\n",
       "      <td>verheiratet</td>\n",
       "      <td>Allgemeine Hochschulreife</td>\n",
       "      <td>0</td>\n",
       "      <td>1595</td>\n",
       "      <td>0</td>\n",
       "      <td>0</td>\n",
       "      <td>1</td>\n",
       "      <td>0</td>\n",
       "    </tr>\n",
       "    <tr>\n",
       "      <th>2</th>\n",
       "      <td>39</td>\n",
       "      <td>Techniker</td>\n",
       "      <td>geschieden</td>\n",
       "      <td>Allgemeine Hochschulreife</td>\n",
       "      <td>0</td>\n",
       "      <td>17441</td>\n",
       "      <td>1</td>\n",
       "      <td>1</td>\n",
       "      <td>1</td>\n",
       "      <td>1</td>\n",
       "    </tr>\n",
       "    <tr>\n",
       "      <th>3</th>\n",
       "      <td>54</td>\n",
       "      <td>Arbeitslos</td>\n",
       "      <td>geschieden</td>\n",
       "      <td>Allgemeine Hochschulreife</td>\n",
       "      <td>0</td>\n",
       "      <td>925</td>\n",
       "      <td>0</td>\n",
       "      <td>0</td>\n",
       "      <td>2</td>\n",
       "      <td>0</td>\n",
       "    </tr>\n",
       "    <tr>\n",
       "      <th>4</th>\n",
       "      <td>24</td>\n",
       "      <td>Techniker</td>\n",
       "      <td>ledig</td>\n",
       "      <td>Allgemeine Hochschulreife</td>\n",
       "      <td>0</td>\n",
       "      <td>-156</td>\n",
       "      <td>1</td>\n",
       "      <td>0</td>\n",
       "      <td>4</td>\n",
       "      <td>0</td>\n",
       "    </tr>\n",
       "  </tbody>\n",
       "</table>\n",
       "</div>"
      ],
      "text/plain": [
       "   Alter         Beruf Familienstand                 Ausbildung  Ausgefallen  \\\n",
       "0     31  Freiberufler   verheiratet  Allgemeine Hochschulreife            0   \n",
       "1     28       Beamter   verheiratet  Allgemeine Hochschulreife            0   \n",
       "2     39     Techniker    geschieden  Allgemeine Hochschulreife            0   \n",
       "3     54    Arbeitslos    geschieden  Allgemeine Hochschulreife            0   \n",
       "4     24     Techniker         ledig  Allgemeine Hochschulreife            0   \n",
       "\n",
       "   Kontostand  Eigentum  Darlehen  Dauer  Label  \n",
       "0         162         1         1      0      1  \n",
       "1        1595         0         0      1      0  \n",
       "2       17441         1         1      1      1  \n",
       "3         925         0         0      2      0  \n",
       "4        -156         1         0      4      0  "
      ]
     },
     "execution_count": 2,
     "metadata": {},
     "output_type": "execute_result"
    }
   ],
   "source": [
    "df = pd.read_csv('bank_marketing_adal_v1.0.csv',sep=\";\")\n",
    "df.columns = ['Alter','Beruf','Familienstand','Ausbildung','Ausgefallen','Kontostand','Eigentum','Darlehen','Dauer','Label']\n",
    "print(df.info())\n",
    "df.head()"
   ]
  },
  {
   "cell_type": "markdown",
   "metadata": {},
   "source": [
    "### 2- Eingabe- und Ausgabedaten trennen"
   ]
  },
  {
   "cell_type": "code",
   "execution_count": 3,
   "metadata": {},
   "outputs": [
    {
     "name": "stdout",
     "output_type": "stream",
     "text": [
      "0    15620\n",
      "1     4873\n",
      "Name: Label, dtype: int64\n"
     ]
    }
   ],
   "source": [
    "X = df.drop(['Label'], axis=1)\n",
    "y = df['Label']\n",
    "print(y.value_counts())"
   ]
  },
  {
   "cell_type": "markdown",
   "metadata": {},
   "source": [
    "### 3- Bestimmen der Anzahl fehlender Daten in der Spalte"
   ]
  },
  {
   "cell_type": "code",
   "execution_count": 4,
   "metadata": {},
   "outputs": [
    {
     "name": "stdout",
     "output_type": "stream",
     "text": [
      "4535\n"
     ]
    }
   ],
   "source": [
    "counter = 0\n",
    "for i in range(20493):\n",
    "    if X.loc[i,'Beruf'] == 'unbekannt':\n",
    "        counter += 1 \n",
    "print(counter)    "
   ]
  },
  {
   "cell_type": "markdown",
   "metadata": {},
   "source": [
    "### 4- Löschen von Spalten, da fehlende Daten mehr als 20% betragen.\n",
    "\n",
    "Erläuterung: Die Menge der fehlenden Daten in der Zeile im Datensatz bildet den Durchschnitt der Spalte. Aus diesem Grund können wir die fehlenden Daten nicht mit einem Durchschnittswert füllen. Das Löschen dieser Anzahl von Zeilen kann die 0-1-Verteilungen in der Ergebnismenge beeinträchtigen.\n",
    "\n",
    "0, es gibt 15620 im Datensatz. (Zieldaten)\n",
    "\n",
    "1, es gibt 4873 im Datensatz. (Zieldaten)\n",
    "\n",
    "Aus diesem Grund löschen wir die Spalte mit einer so großen Menge fehlender Daten."
   ]
  },
  {
   "cell_type": "code",
   "execution_count": 5,
   "metadata": {},
   "outputs": [],
   "source": [
    "X = df.drop(['Beruf','Label'], axis=1)"
   ]
  },
  {
   "cell_type": "markdown",
   "metadata": {},
   "source": [
    "### 5- Unvollständige Daten mit Spalten mittelwert füllen\n",
    "Erläuterung: Das Auffüllen mit dem Mittelwert ist kein Problem, da die Varianz der Daten nicht beeinflusst wird.\n"
   ]
  },
  {
   "cell_type": "code",
   "execution_count": 6,
   "metadata": {},
   "outputs": [
    {
     "data": {
      "text/plain": [
       "count                         20493\n",
       "unique                            4\n",
       "top       Allgemeine Hochschulreife\n",
       "freq                          10522\n",
       "Name: Ausbildung, dtype: object"
      ]
     },
     "execution_count": 6,
     "metadata": {},
     "output_type": "execute_result"
    }
   ],
   "source": [
    "X['Ausbildung'].describe()"
   ]
  },
  {
   "cell_type": "code",
   "execution_count": 7,
   "metadata": {},
   "outputs": [],
   "source": [
    "for i in range(20493):\n",
    "    if X.loc[i,'Ausbildung'] == 'unbekannt':\n",
    "        X.loc[i,'Ausbildung'] = 'Allgemeine Hochschulreife'\n",
    "    else:\n",
    "        X.loc[i,'Ausbildung'] = X.loc[i,'Ausbildung']"
   ]
  },
  {
   "cell_type": "markdown",
   "metadata": {},
   "source": [
    "### 6- Konvertieren von Objektdatentypen in numerische Werte.\n",
    "Erläuterung: Wir können nur numerische Daten im Algorithmus bearbeiten. Aus diesem Grund konvertieren wir zuerst den Datentyp der als \"Objekt\"definieren Spalten in eine Kategorie und dann die kategorialen Daten in numerische Daten. Es gibt mehrere Methoden, die hier verwendet können. One Hot-Codierung wurde nicht bevorzugt, da eine One Hot-Codierung die Anzahl der Spalten im Eingabesatz und die Anzahl der Überanpassung Spalten erhöht.\n"
   ]
  },
  {
   "cell_type": "code",
   "execution_count": 8,
   "metadata": {},
   "outputs": [
    {
     "data": {
      "text/html": [
       "<div>\n",
       "<style scoped>\n",
       "    .dataframe tbody tr th:only-of-type {\n",
       "        vertical-align: middle;\n",
       "    }\n",
       "\n",
       "    .dataframe tbody tr th {\n",
       "        vertical-align: top;\n",
       "    }\n",
       "\n",
       "    .dataframe thead th {\n",
       "        text-align: right;\n",
       "    }\n",
       "</style>\n",
       "<table border=\"1\" class=\"dataframe\">\n",
       "  <thead>\n",
       "    <tr style=\"text-align: right;\">\n",
       "      <th></th>\n",
       "      <th>Alter</th>\n",
       "      <th>Ausgefallen</th>\n",
       "      <th>Kontostand</th>\n",
       "      <th>Eigentum</th>\n",
       "      <th>Darlehen</th>\n",
       "      <th>Dauer</th>\n",
       "      <th>FamilienstandLE</th>\n",
       "      <th>AusbildungLE</th>\n",
       "    </tr>\n",
       "  </thead>\n",
       "  <tbody>\n",
       "    <tr>\n",
       "      <th>0</th>\n",
       "      <td>31</td>\n",
       "      <td>0</td>\n",
       "      <td>162</td>\n",
       "      <td>1</td>\n",
       "      <td>1</td>\n",
       "      <td>0</td>\n",
       "      <td>2</td>\n",
       "      <td>0</td>\n",
       "    </tr>\n",
       "    <tr>\n",
       "      <th>1</th>\n",
       "      <td>28</td>\n",
       "      <td>0</td>\n",
       "      <td>1595</td>\n",
       "      <td>0</td>\n",
       "      <td>0</td>\n",
       "      <td>1</td>\n",
       "      <td>2</td>\n",
       "      <td>0</td>\n",
       "    </tr>\n",
       "    <tr>\n",
       "      <th>2</th>\n",
       "      <td>39</td>\n",
       "      <td>0</td>\n",
       "      <td>17441</td>\n",
       "      <td>1</td>\n",
       "      <td>1</td>\n",
       "      <td>1</td>\n",
       "      <td>0</td>\n",
       "      <td>0</td>\n",
       "    </tr>\n",
       "    <tr>\n",
       "      <th>3</th>\n",
       "      <td>54</td>\n",
       "      <td>0</td>\n",
       "      <td>925</td>\n",
       "      <td>0</td>\n",
       "      <td>0</td>\n",
       "      <td>2</td>\n",
       "      <td>0</td>\n",
       "      <td>0</td>\n",
       "    </tr>\n",
       "    <tr>\n",
       "      <th>4</th>\n",
       "      <td>24</td>\n",
       "      <td>0</td>\n",
       "      <td>-156</td>\n",
       "      <td>1</td>\n",
       "      <td>0</td>\n",
       "      <td>4</td>\n",
       "      <td>1</td>\n",
       "      <td>0</td>\n",
       "    </tr>\n",
       "  </tbody>\n",
       "</table>\n",
       "</div>"
      ],
      "text/plain": [
       "   Alter  Ausgefallen  Kontostand  Eigentum  Darlehen  Dauer  FamilienstandLE  \\\n",
       "0     31            0         162         1         1      0                2   \n",
       "1     28            0        1595         0         0      1                2   \n",
       "2     39            0       17441         1         1      1                0   \n",
       "3     54            0         925         0         0      2                0   \n",
       "4     24            0        -156         1         0      4                1   \n",
       "\n",
       "   AusbildungLE  \n",
       "0             0  \n",
       "1             0  \n",
       "2             0  \n",
       "3             0  \n",
       "4             0  "
      ]
     },
     "execution_count": 8,
     "metadata": {},
     "output_type": "execute_result"
    }
   ],
   "source": [
    "X['Familienstand'] = X['Familienstand'].astype('category')\n",
    "X['Ausbildung'] = X['Ausbildung'].astype('category')\n",
    "X['FamilienstandLE'] = X['Familienstand'].cat.codes\n",
    "X['AusbildungLE'] = X['Ausbildung'].cat.codes\n",
    "X = X.drop(['Familienstand','Ausbildung'], axis = 1)\n",
    "X.head()"
   ]
  },
  {
   "cell_type": "markdown",
   "metadata": {},
   "source": [
    "### 7- Normalisierung von Daten\n",
    "Erläuterung: Die Wertbereiche der numerischen Werte im Datensatz untercheiden sich voneinander. Dies führt dazu, dass das Training des Modells zu lange dauert und manchmal nicht das richtige Ergebnis erzielt. Aus diesem Grund skalieren wir die Daten zwischen 0 und 1. Der Standardisierungsprozess könnte auch hier angewendet werden. Eine Normalisierung wurde jedoch bevorzugt, da sie in den meisten Fällen bessere Ergebnisse liefert.\n"
   ]
  },
  {
   "cell_type": "code",
   "execution_count": 9,
   "metadata": {},
   "outputs": [],
   "source": [
    "def normalize(df):\n",
    "    result = df.copy()\n",
    "    for feature_name in df.columns:\n",
    "        max_value = df[feature_name].max()\n",
    "        min_value = df[feature_name].min()\n",
    "        result[feature_name] = (df[feature_name] - min_value) / (max_value - min_value)\n",
    "    return result"
   ]
  },
  {
   "cell_type": "code",
   "execution_count": 10,
   "metadata": {},
   "outputs": [],
   "source": [
    "X = normalize(X)"
   ]
  },
  {
   "cell_type": "code",
   "execution_count": 11,
   "metadata": {},
   "outputs": [
    {
     "data": {
      "text/html": [
       "<div>\n",
       "<style scoped>\n",
       "    .dataframe tbody tr th:only-of-type {\n",
       "        vertical-align: middle;\n",
       "    }\n",
       "\n",
       "    .dataframe tbody tr th {\n",
       "        vertical-align: top;\n",
       "    }\n",
       "\n",
       "    .dataframe thead th {\n",
       "        text-align: right;\n",
       "    }\n",
       "</style>\n",
       "<table border=\"1\" class=\"dataframe\">\n",
       "  <thead>\n",
       "    <tr style=\"text-align: right;\">\n",
       "      <th></th>\n",
       "      <th>Alter</th>\n",
       "      <th>Ausgefallen</th>\n",
       "      <th>Kontostand</th>\n",
       "      <th>Eigentum</th>\n",
       "      <th>Darlehen</th>\n",
       "      <th>Dauer</th>\n",
       "      <th>FamilienstandLE</th>\n",
       "      <th>AusbildungLE</th>\n",
       "    </tr>\n",
       "  </thead>\n",
       "  <tbody>\n",
       "    <tr>\n",
       "      <th>0</th>\n",
       "      <td>0.254902</td>\n",
       "      <td>0.0</td>\n",
       "      <td>0.175485</td>\n",
       "      <td>1.0</td>\n",
       "      <td>1.0</td>\n",
       "      <td>0.000000</td>\n",
       "      <td>1.0</td>\n",
       "      <td>0.0</td>\n",
       "    </tr>\n",
       "    <tr>\n",
       "      <th>1</th>\n",
       "      <td>0.196078</td>\n",
       "      <td>0.0</td>\n",
       "      <td>0.235089</td>\n",
       "      <td>0.0</td>\n",
       "      <td>0.0</td>\n",
       "      <td>0.000407</td>\n",
       "      <td>1.0</td>\n",
       "      <td>0.0</td>\n",
       "    </tr>\n",
       "    <tr>\n",
       "      <th>2</th>\n",
       "      <td>0.411765</td>\n",
       "      <td>0.0</td>\n",
       "      <td>0.894185</td>\n",
       "      <td>1.0</td>\n",
       "      <td>1.0</td>\n",
       "      <td>0.000407</td>\n",
       "      <td>0.0</td>\n",
       "      <td>0.0</td>\n",
       "    </tr>\n",
       "    <tr>\n",
       "      <th>3</th>\n",
       "      <td>0.705882</td>\n",
       "      <td>0.0</td>\n",
       "      <td>0.207221</td>\n",
       "      <td>0.0</td>\n",
       "      <td>0.0</td>\n",
       "      <td>0.000814</td>\n",
       "      <td>0.0</td>\n",
       "      <td>0.0</td>\n",
       "    </tr>\n",
       "    <tr>\n",
       "      <th>4</th>\n",
       "      <td>0.117647</td>\n",
       "      <td>0.0</td>\n",
       "      <td>0.162258</td>\n",
       "      <td>1.0</td>\n",
       "      <td>0.0</td>\n",
       "      <td>0.001629</td>\n",
       "      <td>0.5</td>\n",
       "      <td>0.0</td>\n",
       "    </tr>\n",
       "    <tr>\n",
       "      <th>5</th>\n",
       "      <td>0.176471</td>\n",
       "      <td>0.0</td>\n",
       "      <td>0.165876</td>\n",
       "      <td>0.0</td>\n",
       "      <td>0.0</td>\n",
       "      <td>0.001629</td>\n",
       "      <td>0.5</td>\n",
       "      <td>0.0</td>\n",
       "    </tr>\n",
       "    <tr>\n",
       "      <th>6</th>\n",
       "      <td>0.431373</td>\n",
       "      <td>0.0</td>\n",
       "      <td>0.169370</td>\n",
       "      <td>0.0</td>\n",
       "      <td>1.0</td>\n",
       "      <td>0.001629</td>\n",
       "      <td>0.5</td>\n",
       "      <td>0.5</td>\n",
       "    </tr>\n",
       "    <tr>\n",
       "      <th>7</th>\n",
       "      <td>0.235294</td>\n",
       "      <td>0.0</td>\n",
       "      <td>0.169620</td>\n",
       "      <td>0.0</td>\n",
       "      <td>0.0</td>\n",
       "      <td>0.001629</td>\n",
       "      <td>0.5</td>\n",
       "      <td>0.5</td>\n",
       "    </tr>\n",
       "    <tr>\n",
       "      <th>8</th>\n",
       "      <td>0.098039</td>\n",
       "      <td>0.0</td>\n",
       "      <td>0.170535</td>\n",
       "      <td>0.0</td>\n",
       "      <td>0.0</td>\n",
       "      <td>0.001629</td>\n",
       "      <td>0.5</td>\n",
       "      <td>0.0</td>\n",
       "    </tr>\n",
       "    <tr>\n",
       "      <th>9</th>\n",
       "      <td>0.176471</td>\n",
       "      <td>0.0</td>\n",
       "      <td>0.172615</td>\n",
       "      <td>0.0</td>\n",
       "      <td>0.0</td>\n",
       "      <td>0.001629</td>\n",
       "      <td>0.5</td>\n",
       "      <td>1.0</td>\n",
       "    </tr>\n",
       "    <tr>\n",
       "      <th>10</th>\n",
       "      <td>0.333333</td>\n",
       "      <td>0.0</td>\n",
       "      <td>0.175901</td>\n",
       "      <td>0.0</td>\n",
       "      <td>0.0</td>\n",
       "      <td>0.001629</td>\n",
       "      <td>0.0</td>\n",
       "      <td>0.0</td>\n",
       "    </tr>\n",
       "    <tr>\n",
       "      <th>11</th>\n",
       "      <td>0.509804</td>\n",
       "      <td>0.0</td>\n",
       "      <td>0.181932</td>\n",
       "      <td>1.0</td>\n",
       "      <td>1.0</td>\n",
       "      <td>0.001629</td>\n",
       "      <td>1.0</td>\n",
       "      <td>0.0</td>\n",
       "    </tr>\n",
       "    <tr>\n",
       "      <th>12</th>\n",
       "      <td>0.176471</td>\n",
       "      <td>0.0</td>\n",
       "      <td>0.182098</td>\n",
       "      <td>0.0</td>\n",
       "      <td>1.0</td>\n",
       "      <td>0.001629</td>\n",
       "      <td>0.5</td>\n",
       "      <td>0.0</td>\n",
       "    </tr>\n",
       "    <tr>\n",
       "      <th>13</th>\n",
       "      <td>0.078431</td>\n",
       "      <td>0.0</td>\n",
       "      <td>0.199484</td>\n",
       "      <td>0.0</td>\n",
       "      <td>0.0</td>\n",
       "      <td>0.001629</td>\n",
       "      <td>0.5</td>\n",
       "      <td>0.0</td>\n",
       "    </tr>\n",
       "    <tr>\n",
       "      <th>14</th>\n",
       "      <td>0.333333</td>\n",
       "      <td>0.0</td>\n",
       "      <td>0.215332</td>\n",
       "      <td>0.0</td>\n",
       "      <td>0.0</td>\n",
       "      <td>0.001629</td>\n",
       "      <td>0.5</td>\n",
       "      <td>0.5</td>\n",
       "    </tr>\n",
       "    <tr>\n",
       "      <th>15</th>\n",
       "      <td>0.254902</td>\n",
       "      <td>1.0</td>\n",
       "      <td>0.158431</td>\n",
       "      <td>0.0</td>\n",
       "      <td>0.0</td>\n",
       "      <td>0.002036</td>\n",
       "      <td>0.5</td>\n",
       "      <td>0.0</td>\n",
       "    </tr>\n",
       "    <tr>\n",
       "      <th>16</th>\n",
       "      <td>0.058824</td>\n",
       "      <td>0.0</td>\n",
       "      <td>0.166999</td>\n",
       "      <td>0.0</td>\n",
       "      <td>0.0</td>\n",
       "      <td>0.002036</td>\n",
       "      <td>0.5</td>\n",
       "      <td>1.0</td>\n",
       "    </tr>\n",
       "    <tr>\n",
       "      <th>17</th>\n",
       "      <td>0.529412</td>\n",
       "      <td>0.0</td>\n",
       "      <td>0.168746</td>\n",
       "      <td>0.0</td>\n",
       "      <td>0.0</td>\n",
       "      <td>0.002036</td>\n",
       "      <td>0.0</td>\n",
       "      <td>0.5</td>\n",
       "    </tr>\n",
       "    <tr>\n",
       "      <th>18</th>\n",
       "      <td>0.313725</td>\n",
       "      <td>0.0</td>\n",
       "      <td>0.171658</td>\n",
       "      <td>1.0</td>\n",
       "      <td>0.0</td>\n",
       "      <td>0.002036</td>\n",
       "      <td>0.0</td>\n",
       "      <td>0.5</td>\n",
       "    </tr>\n",
       "    <tr>\n",
       "      <th>19</th>\n",
       "      <td>0.176471</td>\n",
       "      <td>0.0</td>\n",
       "      <td>0.171991</td>\n",
       "      <td>1.0</td>\n",
       "      <td>1.0</td>\n",
       "      <td>0.002036</td>\n",
       "      <td>0.5</td>\n",
       "      <td>0.0</td>\n",
       "    </tr>\n",
       "    <tr>\n",
       "      <th>20</th>\n",
       "      <td>0.235294</td>\n",
       "      <td>0.0</td>\n",
       "      <td>0.173904</td>\n",
       "      <td>1.0</td>\n",
       "      <td>0.0</td>\n",
       "      <td>0.002036</td>\n",
       "      <td>1.0</td>\n",
       "      <td>1.0</td>\n",
       "    </tr>\n",
       "    <tr>\n",
       "      <th>21</th>\n",
       "      <td>0.333333</td>\n",
       "      <td>0.0</td>\n",
       "      <td>0.174445</td>\n",
       "      <td>0.0</td>\n",
       "      <td>1.0</td>\n",
       "      <td>0.002036</td>\n",
       "      <td>1.0</td>\n",
       "      <td>0.0</td>\n",
       "    </tr>\n",
       "    <tr>\n",
       "      <th>22</th>\n",
       "      <td>0.450980</td>\n",
       "      <td>0.0</td>\n",
       "      <td>0.176150</td>\n",
       "      <td>1.0</td>\n",
       "      <td>0.0</td>\n",
       "      <td>0.002036</td>\n",
       "      <td>1.0</td>\n",
       "      <td>1.0</td>\n",
       "    </tr>\n",
       "    <tr>\n",
       "      <th>23</th>\n",
       "      <td>0.078431</td>\n",
       "      <td>0.0</td>\n",
       "      <td>0.178063</td>\n",
       "      <td>0.0</td>\n",
       "      <td>0.0</td>\n",
       "      <td>0.002036</td>\n",
       "      <td>0.5</td>\n",
       "      <td>0.0</td>\n",
       "    </tr>\n",
       "    <tr>\n",
       "      <th>24</th>\n",
       "      <td>0.176471</td>\n",
       "      <td>0.0</td>\n",
       "      <td>0.178313</td>\n",
       "      <td>0.0</td>\n",
       "      <td>0.0</td>\n",
       "      <td>0.002036</td>\n",
       "      <td>0.5</td>\n",
       "      <td>0.0</td>\n",
       "    </tr>\n",
       "    <tr>\n",
       "      <th>25</th>\n",
       "      <td>0.352941</td>\n",
       "      <td>0.0</td>\n",
       "      <td>0.182680</td>\n",
       "      <td>0.0</td>\n",
       "      <td>0.0</td>\n",
       "      <td>0.002036</td>\n",
       "      <td>0.5</td>\n",
       "      <td>0.5</td>\n",
       "    </tr>\n",
       "    <tr>\n",
       "      <th>26</th>\n",
       "      <td>0.254902</td>\n",
       "      <td>0.0</td>\n",
       "      <td>0.187006</td>\n",
       "      <td>0.0</td>\n",
       "      <td>0.0</td>\n",
       "      <td>0.002036</td>\n",
       "      <td>1.0</td>\n",
       "      <td>0.0</td>\n",
       "    </tr>\n",
       "    <tr>\n",
       "      <th>27</th>\n",
       "      <td>0.411765</td>\n",
       "      <td>0.0</td>\n",
       "      <td>0.188337</td>\n",
       "      <td>0.0</td>\n",
       "      <td>0.0</td>\n",
       "      <td>0.002036</td>\n",
       "      <td>0.5</td>\n",
       "      <td>0.0</td>\n",
       "    </tr>\n",
       "    <tr>\n",
       "      <th>28</th>\n",
       "      <td>0.058824</td>\n",
       "      <td>0.0</td>\n",
       "      <td>0.190334</td>\n",
       "      <td>0.0</td>\n",
       "      <td>0.0</td>\n",
       "      <td>0.002036</td>\n",
       "      <td>0.5</td>\n",
       "      <td>0.0</td>\n",
       "    </tr>\n",
       "    <tr>\n",
       "      <th>29</th>\n",
       "      <td>0.254902</td>\n",
       "      <td>0.0</td>\n",
       "      <td>0.190708</td>\n",
       "      <td>0.0</td>\n",
       "      <td>1.0</td>\n",
       "      <td>0.002036</td>\n",
       "      <td>0.5</td>\n",
       "      <td>0.5</td>\n",
       "    </tr>\n",
       "  </tbody>\n",
       "</table>\n",
       "</div>"
      ],
      "text/plain": [
       "       Alter  Ausgefallen  Kontostand  Eigentum  Darlehen     Dauer  \\\n",
       "0   0.254902          0.0    0.175485       1.0       1.0  0.000000   \n",
       "1   0.196078          0.0    0.235089       0.0       0.0  0.000407   \n",
       "2   0.411765          0.0    0.894185       1.0       1.0  0.000407   \n",
       "3   0.705882          0.0    0.207221       0.0       0.0  0.000814   \n",
       "4   0.117647          0.0    0.162258       1.0       0.0  0.001629   \n",
       "5   0.176471          0.0    0.165876       0.0       0.0  0.001629   \n",
       "6   0.431373          0.0    0.169370       0.0       1.0  0.001629   \n",
       "7   0.235294          0.0    0.169620       0.0       0.0  0.001629   \n",
       "8   0.098039          0.0    0.170535       0.0       0.0  0.001629   \n",
       "9   0.176471          0.0    0.172615       0.0       0.0  0.001629   \n",
       "10  0.333333          0.0    0.175901       0.0       0.0  0.001629   \n",
       "11  0.509804          0.0    0.181932       1.0       1.0  0.001629   \n",
       "12  0.176471          0.0    0.182098       0.0       1.0  0.001629   \n",
       "13  0.078431          0.0    0.199484       0.0       0.0  0.001629   \n",
       "14  0.333333          0.0    0.215332       0.0       0.0  0.001629   \n",
       "15  0.254902          1.0    0.158431       0.0       0.0  0.002036   \n",
       "16  0.058824          0.0    0.166999       0.0       0.0  0.002036   \n",
       "17  0.529412          0.0    0.168746       0.0       0.0  0.002036   \n",
       "18  0.313725          0.0    0.171658       1.0       0.0  0.002036   \n",
       "19  0.176471          0.0    0.171991       1.0       1.0  0.002036   \n",
       "20  0.235294          0.0    0.173904       1.0       0.0  0.002036   \n",
       "21  0.333333          0.0    0.174445       0.0       1.0  0.002036   \n",
       "22  0.450980          0.0    0.176150       1.0       0.0  0.002036   \n",
       "23  0.078431          0.0    0.178063       0.0       0.0  0.002036   \n",
       "24  0.176471          0.0    0.178313       0.0       0.0  0.002036   \n",
       "25  0.352941          0.0    0.182680       0.0       0.0  0.002036   \n",
       "26  0.254902          0.0    0.187006       0.0       0.0  0.002036   \n",
       "27  0.411765          0.0    0.188337       0.0       0.0  0.002036   \n",
       "28  0.058824          0.0    0.190334       0.0       0.0  0.002036   \n",
       "29  0.254902          0.0    0.190708       0.0       1.0  0.002036   \n",
       "\n",
       "    FamilienstandLE  AusbildungLE  \n",
       "0               1.0           0.0  \n",
       "1               1.0           0.0  \n",
       "2               0.0           0.0  \n",
       "3               0.0           0.0  \n",
       "4               0.5           0.0  \n",
       "5               0.5           0.0  \n",
       "6               0.5           0.5  \n",
       "7               0.5           0.5  \n",
       "8               0.5           0.0  \n",
       "9               0.5           1.0  \n",
       "10              0.0           0.0  \n",
       "11              1.0           0.0  \n",
       "12              0.5           0.0  \n",
       "13              0.5           0.0  \n",
       "14              0.5           0.5  \n",
       "15              0.5           0.0  \n",
       "16              0.5           1.0  \n",
       "17              0.0           0.5  \n",
       "18              0.0           0.5  \n",
       "19              0.5           0.0  \n",
       "20              1.0           1.0  \n",
       "21              1.0           0.0  \n",
       "22              1.0           1.0  \n",
       "23              0.5           0.0  \n",
       "24              0.5           0.0  \n",
       "25              0.5           0.5  \n",
       "26              1.0           0.0  \n",
       "27              0.5           0.0  \n",
       "28              0.5           0.0  \n",
       "29              0.5           0.5  "
      ]
     },
     "execution_count": 11,
     "metadata": {},
     "output_type": "execute_result"
    }
   ],
   "source": [
    "X.head(30)"
   ]
  },
  {
   "cell_type": "markdown",
   "metadata": {},
   "source": [
    "### 8- Auflistung der Parameter des Random Forest-Algorithmus "
   ]
  },
  {
   "cell_type": "code",
   "execution_count": 12,
   "metadata": {},
   "outputs": [
    {
     "name": "stdout",
     "output_type": "stream",
     "text": [
      "Parameters currently in use:\n",
      "\n",
      "{'bootstrap': True,\n",
      " 'ccp_alpha': 0.0,\n",
      " 'class_weight': None,\n",
      " 'criterion': 'gini',\n",
      " 'max_depth': None,\n",
      " 'max_features': 'auto',\n",
      " 'max_leaf_nodes': None,\n",
      " 'max_samples': None,\n",
      " 'min_impurity_decrease': 0.0,\n",
      " 'min_impurity_split': None,\n",
      " 'min_samples_leaf': 1,\n",
      " 'min_samples_split': 2,\n",
      " 'min_weight_fraction_leaf': 0.0,\n",
      " 'n_estimators': 100,\n",
      " 'n_jobs': None,\n",
      " 'oob_score': False,\n",
      " 'random_state': 4711,\n",
      " 'verbose': 0,\n",
      " 'warm_start': False}\n"
     ]
    }
   ],
   "source": [
    "from sklearn.ensemble import RandomForestClassifier\n",
    "rf = RandomForestClassifier(random_state=4711)\n",
    "from pprint import pprint\n",
    "print('Parameters currently in use:\\n')\n",
    "pprint(rf.get_params())"
   ]
  },
  {
   "cell_type": "markdown",
   "metadata": {},
   "source": [
    "### 9- Bestimmen der Parameterwerte,mit denen wir das beste Ergebnis erzielen.\n",
    "Erläuterung: Die Anzahl der Bäume kann zwischen 100 und 2000 20 verschiedene Werte annehmen, max_feature kann alle Spalten oder eine unterschiedliche Anzahl von spalten annehmen, kann Werte von max_depth 1 bis zur Anzahl der Spalten in Trainingsdaten annehmen, kann Werte von min_samples_split 2,5 und 8 annehmen, min samples_leaf 1, 2 und 4 Bootstrap kann wahr oder falsch sein. Der Grund dafür ist, dass wir die kompatibelsten Parameter ermitteln können, mit denen wir die höchste Genauigkeit erzielen können. Dabei verwenden wir RandomizedSearchCV in der sklearn-Bibliothek.\n",
    " "
   ]
  },
  {
   "cell_type": "code",
   "execution_count": 13,
   "metadata": {},
   "outputs": [
    {
     "name": "stdout",
     "output_type": "stream",
     "text": [
      "{'bootstrap': [True, False],\n",
      " 'max_depth': [1, 2, 3, 4, 5, 6, 7, 8, None],\n",
      " 'max_features': ['auto', 'sqrt'],\n",
      " 'min_samples_leaf': [1, 2, 4],\n",
      " 'min_samples_split': [2, 5, 8],\n",
      " 'n_estimators': [100,\n",
      "                  200,\n",
      "                  300,\n",
      "                  400,\n",
      "                  500,\n",
      "                  600,\n",
      "                  700,\n",
      "                  800,\n",
      "                  900,\n",
      "                  1000,\n",
      "                  1100,\n",
      "                  1200,\n",
      "                  1300,\n",
      "                  1400,\n",
      "                  1500,\n",
      "                  1600,\n",
      "                  1700,\n",
      "                  1800,\n",
      "                  1900,\n",
      "                  2000]}\n"
     ]
    }
   ],
   "source": [
    "from sklearn.model_selection import RandomizedSearchCV\n",
    "\n",
    "n_estimators = [int(x) for x in np.linspace(start = 100, stop = 2000, num = 20)]\n",
    "max_features = ['auto', 'sqrt']\n",
    "max_depth = [int(x) for x in np.linspace(1, 8, num = 8)]\n",
    "max_depth.append(None)\n",
    "min_samples_split = [2, 5, 8]\n",
    "min_samples_leaf = [1, 2, 4]\n",
    "bootstrap = [True, False]\n",
    "random_grid = {'n_estimators': n_estimators,\n",
    "               'max_features': max_features,\n",
    "               'max_depth': max_depth,\n",
    "               'min_samples_split': min_samples_split,\n",
    "               'min_samples_leaf': min_samples_leaf,\n",
    "               'bootstrap': bootstrap}\n",
    "pprint(random_grid)"
   ]
  },
  {
   "cell_type": "markdown",
   "metadata": {},
   "source": [
    "### 10- Mit RandomizedSearchCV erstellen wir Übereinstimmungen in dem oben definierten Parametersatz und ermitteln die kompatibelsten und besten Ergebnisparameter. \n",
    "Wir suchen nach den kompatibelsten Parametern, indem wir die daten mit cv = 3 durch 3 teilen und mit n_iter = 100 100 verschiedene Übeereinstimmungen in jedem Stück erstellen. Dann teilen wir die Daten in Zug- unda Testsätze auf, sodass der Testdatensatz 30% beträgt. rf_random Modell mit den besten Parametern. Wir passen unseren Datensatz an rf_random an.\n",
    " "
   ]
  },
  {
   "cell_type": "code",
   "execution_count": 14,
   "metadata": {},
   "outputs": [
    {
     "name": "stdout",
     "output_type": "stream",
     "text": [
      "Fitting 3 folds for each of 100 candidates, totalling 300 fits\n"
     ]
    },
    {
     "name": "stderr",
     "output_type": "stream",
     "text": [
      "[Parallel(n_jobs=-1)]: Using backend LokyBackend with 8 concurrent workers.\n",
      "[Parallel(n_jobs=-1)]: Done  25 tasks      | elapsed:   53.7s\n",
      "[Parallel(n_jobs=-1)]: Done 146 tasks      | elapsed:  3.5min\n",
      "[Parallel(n_jobs=-1)]: Done 300 out of 300 | elapsed:  7.4min finished\n"
     ]
    },
    {
     "data": {
      "text/plain": [
       "RandomizedSearchCV(cv=3, estimator=RandomForestClassifier(), n_iter=100,\n",
       "                   n_jobs=-1,\n",
       "                   param_distributions={'bootstrap': [True, False],\n",
       "                                        'max_depth': [1, 2, 3, 4, 5, 6, 7, 8,\n",
       "                                                      None],\n",
       "                                        'max_features': ['auto', 'sqrt'],\n",
       "                                        'min_samples_leaf': [1, 2, 4],\n",
       "                                        'min_samples_split': [2, 5, 8],\n",
       "                                        'n_estimators': [100, 200, 300, 400,\n",
       "                                                         500, 600, 700, 800,\n",
       "                                                         900, 1000, 1100, 1200,\n",
       "                                                         1300, 1400, 1500, 1600,\n",
       "                                                         1700, 1800, 1900,\n",
       "                                                         2000]},\n",
       "                   random_state=4711, verbose=2)"
      ]
     },
     "execution_count": 14,
     "metadata": {},
     "output_type": "execute_result"
    }
   ],
   "source": [
    "from sklearn.model_selection import train_test_split\n",
    "\n",
    "rf = RandomForestClassifier()\n",
    "rf_random = RandomizedSearchCV(estimator = rf, param_distributions = random_grid, n_iter = 100, cv = 3, verbose=2, random_state=4711, n_jobs = -1)\n",
    "X_train, X_test, y_train, y_test = train_test_split(X,y, test_size=0.3, random_state=4711, shuffle= True)\n",
    "rf_random.fit(X_train, y_train)"
   ]
  },
  {
   "cell_type": "code",
   "execution_count": 15,
   "metadata": {},
   "outputs": [
    {
     "data": {
      "text/plain": [
       "{'n_estimators': 1200,\n",
       " 'min_samples_split': 2,\n",
       " 'min_samples_leaf': 1,\n",
       " 'max_features': 'auto',\n",
       " 'max_depth': 8,\n",
       " 'bootstrap': False}"
      ]
     },
     "execution_count": 15,
     "metadata": {},
     "output_type": "execute_result"
    }
   ],
   "source": [
    "rf_random.best_params_"
   ]
  },
  {
   "cell_type": "markdown",
   "metadata": {},
   "source": [
    "### 11- Visualisierung von Random Forest Decision Tree "
   ]
  },
  {
   "cell_type": "code",
   "execution_count": 37,
   "metadata": {},
   "outputs": [
    {
     "data": {
      "application/vnd.jupyter.widget-view+json": {
       "model_id": "d52ed5c830d64670a113a5c7da2f12f4",
       "version_major": 2,
       "version_minor": 0
      },
      "text/plain": [
       "Image(value=b'\\x89PNG\\r\\n\\x1a\\n\\x00\\x00\\x00\\rIHDR\\x00\\x00@\\xdf\\x00\\x00\\x04\\xa7\\x08\\x06\\x00\\x00\\x00\\xb3\\x8f\\xb4…"
      ]
     },
     "metadata": {},
     "output_type": "display_data"
    }
   ],
   "source": [
    "from ipywidgets import Image\n",
    "from io import StringIO\n",
    "import pydotplus \n",
    "from sklearn.tree import export_graphviz\n",
    "\n",
    "d_tree99 = rf_random.best_estimator_[99]\n",
    "dot_data1 = StringIO()\n",
    "export_graphviz(d_tree99, feature_names = X.columns,\n",
    "               out_file = dot_data1, filled = True, rounded=True)\n",
    "graph = pydotplus.graph_from_dot_data(dot_data1.getvalue())\n",
    "graph.write_png('rf_5b.png')\n",
    "Image(value = graph.create_png())"
   ]
  },
  {
   "cell_type": "markdown",
   "metadata": {},
   "source": [
    "### 12- Durchführen des Bewertungsprozesses:\n",
    "a- Basismodell, Modell, bei dem wir nicht die besten Parameter angeben\n",
    "\n",
    "b- Baster Zufall, das Modell, in dem die besten Parameter angewendet werden\n",
    "\n",
    "Der Testdatensatz wird auf beide Modelle angewendet und die Genauigkeitswerte beider Modelle werden verglichen\n",
    "\n",
    " "
   ]
  },
  {
   "cell_type": "code",
   "execution_count": 16,
   "metadata": {},
   "outputs": [
    {
     "name": "stdout",
     "output_type": "stream",
     "text": [
      "Model Performance\n",
      "Average Error: 0.1838 degrees.\n",
      "Accuracy = 0.82%.\n",
      "Model Performance\n",
      "Average Error: 0.1786 degrees.\n",
      "Accuracy = 0.82%.\n",
      "Improvement of 0.64%.\n"
     ]
    }
   ],
   "source": [
    "from sklearn.metrics import accuracy_score \n",
    "\n",
    "def evaluate(model, X_test, y_test):\n",
    "    predictions = model.predict(X_test)\n",
    "    accuracy = accuracy_score(y_test, predictions)\n",
    "    errors = abs(predictions - y_test)\n",
    "    print('Model Performance')\n",
    "    print('Average Error: {:0.4f} degrees.'.format(np.mean(errors)))\n",
    "    print('Accuracy = {:0.2f}%.'.format(accuracy))\n",
    "    \n",
    "    return accuracy\n",
    "base_model = RandomForestClassifier(n_estimators = 100, random_state = 4711)\n",
    "base_model.fit(X_train, y_train)\n",
    "base_accuracy = evaluate(base_model, X_test, y_test)\n",
    "\n",
    "best_random = rf_random.best_estimator_\n",
    "random_accuracy = evaluate(best_random, X_test, y_test)\n",
    "\n",
    "print('Improvement of {:0.2f}%.'.format( 100 * (random_accuracy - base_accuracy) / base_accuracy))"
   ]
  },
  {
   "cell_type": "code",
   "execution_count": 17,
   "metadata": {},
   "outputs": [
    {
     "data": {
      "text/plain": [
       "RandomForestClassifier(bootstrap=False, max_depth=8, n_estimators=400,\n",
       "                       random_state=4711)"
      ]
     },
     "execution_count": 17,
     "metadata": {},
     "output_type": "execute_result"
    }
   ],
   "source": [
    "treenew = RandomForestClassifier(n_estimators= 400, min_samples_split= 2, min_samples_leaf= 1, max_features= 'auto',max_depth=8,\n",
    "                            bootstrap=False,random_state = 4711)\n",
    "treenew.fit(X_train, y_train)"
   ]
  },
  {
   "cell_type": "markdown",
   "metadata": {},
   "source": [
    "### 13- Vergleich der Predicted Values und Actual Values mit der Confusion Matrix\n",
    "Confusion Matrix, eine Leistungsmessung, ist eine Tabelle mit 4 verschiedenen Kombinationen von Actual Values und Predicted Values. X_Test enthält die Schätzungen, die wir aus dem Prozess erhalten. y_test sind echte Werte.\n",
    "Mit dem Pyplot kann Confusion Matrix visualisiert werden."
   ]
  },
  {
   "cell_type": "code",
   "execution_count": 18,
   "metadata": {},
   "outputs": [
    {
     "data": {
      "image/png": "[encoded data removed]",
      "text/plain": [
       "<Figure size 432x288 with 2 Axes>"
      ]
     },
     "metadata": {
      "needs_background": "light"
     },
     "output_type": "display_data"
    }
   ],
   "source": [
    "from sklearn.metrics import accuracy_score \n",
    "from sklearn.metrics import confusion_matrix as cm\n",
    "\n",
    "predictions = treenew.predict(X_test)\n",
    "score = round(accuracy_score(y_test, predictions), 3)\n",
    "cm1 = cm(y_test, predictions)\n",
    "sns.heatmap(cm1, annot=True, fmt=\".0f\")\n",
    "plt.xlabel('Predicted Values')\n",
    "plt.ylabel('Actual Values')\n",
    "plt.title('Accuracy Score: {0}'.format(score), size = 15)\n",
    "plt.show()"
   ]
  },
  {
   "cell_type": "markdown",
   "metadata": {},
   "source": [
    "### 14- Die Genauigkeit des zum Testen der oben erstellten Testparameter gefundenen Werts wurde überprüft.\n",
    "Wir haben geprüft, ob es einen besseren Wert gibt"
   ]
  },
  {
   "cell_type": "code",
   "execution_count": 30,
   "metadata": {},
   "outputs": [],
   "source": [
    "from sklearn.model_selection import GridSearchCV\n",
    "param_grid = {\n",
    "    'bootstrap': [True],\n",
    "    'max_depth': [5, 6, 7, 8],\n",
    "    'max_features': [2, 3],\n",
    "    'min_samples_leaf': [3, 4, 5],\n",
    "    'min_samples_split': [4, 5, 6],\n",
    "    'n_estimators': [100, 200, 300, 1000]\n",
    "}\n",
    "rf = RandomForestClassifier()\n",
    "grid_search = GridSearchCV(estimator = rf, param_grid = param_grid, cv = 3, n_jobs = -1, verbose = 2)"
   ]
  },
  {
   "cell_type": "code",
   "execution_count": 31,
   "metadata": {},
   "outputs": [
    {
     "name": "stdout",
     "output_type": "stream",
     "text": [
      "Fitting 3 folds for each of 288 candidates, totalling 864 fits\n"
     ]
    },
    {
     "name": "stderr",
     "output_type": "stream",
     "text": [
      "[Parallel(n_jobs=-1)]: Using backend LokyBackend with 8 concurrent workers.\n",
      "[Parallel(n_jobs=-1)]: Done  25 tasks      | elapsed:   16.5s\n",
      "[Parallel(n_jobs=-1)]: Done 146 tasks      | elapsed:  1.5min\n",
      "[Parallel(n_jobs=-1)]: Done 349 tasks      | elapsed:  3.7min\n",
      "[Parallel(n_jobs=-1)]: Done 632 tasks      | elapsed:  7.1min\n",
      "[Parallel(n_jobs=-1)]: Done 864 out of 864 | elapsed: 10.2min finished\n"
     ]
    },
    {
     "name": "stdout",
     "output_type": "stream",
     "text": [
      "Model Performance\n",
      "Average Error: 0.1776 degrees.\n",
      "Accuracy = 0.82%.\n",
      "Improvement of 0.76%.\n"
     ]
    }
   ],
   "source": [
    "grid_search.fit(X_train, y_train)\n",
    "grid_search.best_params_\n",
    "best_grid = grid_search.best_estimator_\n",
    "grid_accuracy = evaluate(best_grid, X_test, y_test)\n",
    "print('Improvement of {:0.2f}%.'.format( 100 * (grid_accuracy - base_accuracy) / base_accuracy))"
   ]
  },
  {
   "cell_type": "code",
   "execution_count": 32,
   "metadata": {},
   "outputs": [
    {
     "data": {
      "text/plain": [
       "0.8162003903708523"
      ]
     },
     "execution_count": 32,
     "metadata": {},
     "output_type": "execute_result"
    }
   ],
   "source": [
    "base_accuracy"
   ]
  },
  {
   "cell_type": "code",
   "execution_count": 33,
   "metadata": {},
   "outputs": [
    {
     "data": {
      "text/plain": [
       "{'bootstrap': False,\n",
       " 'ccp_alpha': 0.0,\n",
       " 'class_weight': None,\n",
       " 'criterion': 'gini',\n",
       " 'max_depth': 8,\n",
       " 'max_features': 'auto',\n",
       " 'max_leaf_nodes': None,\n",
       " 'max_samples': None,\n",
       " 'min_impurity_decrease': 0.0,\n",
       " 'min_impurity_split': None,\n",
       " 'min_samples_leaf': 1,\n",
       " 'min_samples_split': 2,\n",
       " 'min_weight_fraction_leaf': 0.0,\n",
       " 'n_estimators': 1200,\n",
       " 'n_jobs': None,\n",
       " 'oob_score': False,\n",
       " 'random_state': None,\n",
       " 'verbose': 0,\n",
       " 'warm_start': False}"
      ]
     },
     "execution_count": 33,
     "metadata": {},
     "output_type": "execute_result"
    }
   ],
   "source": [
    "best_random.get_params()"
   ]
  },
  {
   "cell_type": "markdown",
   "metadata": {},
   "source": [
    "### 15- Nutzung von \"classification_report\"\n",
    "Wir haben classification_report mit y_test und precision erstellt.\n",
    "\n",
    "Es gibt vier Möglichkeiten, um zu überprüfen, ob die Vorhersagen richtig oder falsch sind: True Positive, True Negative, Falsch Positive, Falsch Negative.\n",
    "\n",
    "Precision: Genauigkeit positiver Vorhersagen. Precision = TP / (TP + FP)\n",
    "\n",
    "Recall : Recall ist die Fähigkeit eines Klassifikators, alle positiven Instanzen zu finden. Recall = TP / (TP + FN)\n",
    "\n",
    "F1 Score: Die Punktzahlen geben die Genauigkeit der Klassifizierer "
   ]
  },
  {
   "cell_type": "code",
   "execution_count": 34,
   "metadata": {},
   "outputs": [
    {
     "name": "stdout",
     "output_type": "stream",
     "text": [
      "              precision    recall  f1-score   support\n",
      "\n",
      "           0     0.8450    0.9394    0.8897      4689\n",
      "           1     0.6963    0.4462    0.5439      1459\n",
      "\n",
      "    accuracy                         0.8224      6148\n",
      "   macro avg     0.7706    0.6928    0.7168      6148\n",
      "weighted avg     0.8097    0.8224    0.8076      6148\n",
      "\n"
     ]
    }
   ],
   "source": [
    "from sklearn.metrics import classification_report\n",
    "from sklearn import metrics\n",
    "print(metrics.classification_report(y_test, predictions, digits=4))"
   ]
  },
  {
   "cell_type": "code",
   "execution_count": 35,
   "metadata": {},
   "outputs": [],
   "source": [
    "A = df.drop(['Beruf','Label'], axis=1)"
   ]
  },
  {
   "cell_type": "markdown",
   "metadata": {},
   "source": [
    "### 16- Visualisierung\n",
    "Zusammen mit den von uns erstellten Informationen (Präzision, Rückruf, F1-Score, Unterstützung) haben wir die Spalten des RandomForestClassifier in der Reihenfolge ihrer Wichtigkeit visualisiert."
   ]
  },
  {
   "cell_type": "markdown",
   "metadata": {},
   "source": []
  },
  {
   "cell_type": "code",
   "execution_count": 36,
   "metadata": {},
   "outputs": [
    {
     "name": "stdout",
     "output_type": "stream",
     "text": [
      "              precision    recall  f1-score   support\n",
      "\n",
      "           0       0.84      0.94      0.89      4689\n",
      "           1       0.70      0.43      0.53      1459\n",
      "\n",
      "    accuracy                           0.82      6148\n",
      "   macro avg       0.77      0.69      0.71      6148\n",
      "weighted avg       0.81      0.82      0.81      6148\n",
      "\n"
     ]
    },
    {
     "data": {
      "image/png": "[encoded data removed]",
      "text/plain": [
       "<Figure size 1152x648 with 1 Axes>"
      ]
     },
     "metadata": {
      "needs_background": "light"
     },
     "output_type": "display_data"
    }
   ],
   "source": [
    "rf = RandomForestClassifier(bootstrap=True,ccp_alpha =0.0,class_weight=None,criterion='gini', max_depth=8,max_features= 'auto',\n",
    " max_leaf_nodes=None,max_samples=None,min_impurity_decrease=0.0,min_impurity_split=None,min_samples_leaf=1,min_samples_split=2,\n",
    " min_weight_fraction_leaf=0.0, n_estimators=400,n_jobs=None,oob_score=False,random_state=4711,verbose=0,warm_start=False)\n",
    "rf.fit(X_train, y_train)\n",
    "predictions = rf.predict(X_test)\n",
    "\n",
    "print(classification_report(y_test, predictions))\n",
    "plt.figure(figsize=(16, 9))\n",
    "\n",
    "ranking = rf.feature_importances_\n",
    "features = np.argsort(ranking)[::-1][:10]\n",
    "columns = A.columns\n",
    "\n",
    "plt.title(\"Data Mining im Bankenumfeld\", y = 1.03, size = 18)\n",
    "plt.bar(range(len(features)), ranking[features], color=\"purple\", align=\"center\")\n",
    "plt.xticks(range(len(features)), columns[features], rotation=80)\n",
    "plt.show()"
   ]
  },
  {
   "cell_type": "code",
   "execution_count": null,
   "metadata": {},
   "outputs": [],
   "source": []
  }
 ],
 "metadata": {
  "kernelspec": {
   "display_name": "Python 3",
   "language": "python",
   "name": "python3"
  },
  "language_info": {
   "codemirror_mode": {
    "name": "ipython",
    "version": 3
   },
   "file_extension": ".py",
   "mimetype": "text/x-python",
   "name": "python",
   "nbconvert_exporter": "python",
   "pygments_lexer": "ipython3",
   "version": "3.8.5"
  }
 },
 "nbformat": 4,
 "nbformat_minor": 4
}
